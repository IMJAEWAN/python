{
  "nbformat": 4,
  "nbformat_minor": 0,
  "metadata": {
    "colab": {
      "provenance": [],
      "authorship_tag": "ABX9TyOCHPKMrRMwlCWbsaYwiYHU",
      "include_colab_link": true
    },
    "kernelspec": {
      "name": "python3",
      "display_name": "Python 3"
    },
    "language_info": {
      "name": "python"
    }
  },
  "cells": [
    {
      "cell_type": "markdown",
      "metadata": {
        "id": "view-in-github",
        "colab_type": "text"
      },
      "source": [
        "<a href=\"https://colab.research.google.com/github/IMJAEWAN/python/blob/main/%EC%8B%9C%ED%97%98%EB%8C%80%EB%B9%84.ipynb\" target=\"_parent\"><img src=\"https://colab.research.google.com/assets/colab-badge.svg\" alt=\"Open In Colab\"/></a>"
      ]
    },
    {
      "cell_type": "markdown",
      "source": [
        "1.파이썬 프로그래밍 언어의 장점(1.ppt)\n",
        "\n",
        " 무료 오픈 소스\n",
        " 모바일 컴퓨팅 분야에 지원이 약함\n",
        " 다른 언어에 비해 실행 속도가 느림\n",
        " 다양하고 강력한 외부 라이브러리 제공\n",
        "\n",
        "2.파이썬 문법의 예약어(2.ppt)"
      ],
      "metadata": {
        "id": "5kQGAelQGGXy"
      }
    },
    {
      "cell_type": "code",
      "execution_count": null,
      "metadata": {
        "id": "qiEWAJ0iFwEe"
      },
      "outputs": [],
      "source": [
        "if\n",
        "else\n",
        "return"
      ]
    },
    {
      "cell_type": "markdown",
      "source": [
        "3.키보드로부터 입력받은 값을 변수에 저장할 수 있도록 도와주는 함수(2.ppt)\n"
      ],
      "metadata": {
        "id": "cTSfDx9-HBKK"
      }
    },
    {
      "cell_type": "code",
      "source": [
        "num = input()\n",
        "print(num)"
      ],
      "metadata": {
        "id": "g3apafzmHaCg"
      },
      "execution_count": null,
      "outputs": []
    },
    {
      "cell_type": "markdown",
      "source": [
        "4.연산자(3.ppt)\n",
        "\n",
        "num = 5\n",
        "\n",
        "result = num // 2\n",
        "\n",
        "print(result)\n",
        "\n",
        "몫 = 2\n",
        "\n",
        "5.대인연산자(3.ppt)\n",
        "\n",
        "틀린거 찾으시오 답 = 5"
      ],
      "metadata": {
        "id": "xwTbVEIVHd4R"
      }
    },
    {
      "cell_type": "code",
      "source": [
        "n1 = 100\n",
        "n1, n2 = 100,200\n",
        "n1, n2, n3 = 100,200,300\n",
        "n1,n2,n3,n4 = 100,200,300,400\n",
        "ne,n2,n3,n4,n5  100,200,300,400"
      ],
      "metadata": {
        "colab": {
          "base_uri": "https://localhost:8080/",
          "height": 137
        },
        "id": "zmLSVhfzISlq",
        "outputId": "9a08493f-3b6e-4434-e675-a94242c04f5a"
      },
      "execution_count": 1,
      "outputs": [
        {
          "output_type": "error",
          "ename": "SyntaxError",
          "evalue": "ignored",
          "traceback": [
            "\u001b[0;36m  File \u001b[0;32m\"<ipython-input-1-93129d6c1726>\"\u001b[0;36m, line \u001b[0;32m5\u001b[0m\n\u001b[0;31m    ne,n2,n3,n4,n5  100,200,300,400\u001b[0m\n\u001b[0m                    ^\u001b[0m\n\u001b[0;31mSyntaxError\u001b[0m\u001b[0;31m:\u001b[0m invalid syntax\n"
          ]
        }
      ]
    },
    {
      "cell_type": "markdown",
      "source": [
        "6.비교연산자(3.ppt) 틀린거하나\n"
      ],
      "metadata": {
        "id": "zb2Hft2uIb6B"
      }
    },
    {
      "cell_type": "code",
      "source": [
        "var1 = (30 > 300)\n",
        "var2 = (300 <= 300)\n",
        "var3 = (30 <= 300)\n",
        "var4 = (300 > 30)\n",
        "var5 = (300 == 300)\n",
        "\n",
        "print(var1,var2,var3,var4,var5)"
      ],
      "metadata": {
        "colab": {
          "base_uri": "https://localhost:8080/"
        },
        "id": "xaerpFQsIxyB",
        "outputId": "c538a77b-641e-4781-ade0-871b689afe65"
      },
      "execution_count": 2,
      "outputs": [
        {
          "output_type": "stream",
          "name": "stdout",
          "text": [
            "False True True True True\n"
          ]
        }
      ]
    },
    {
      "cell_type": "markdown",
      "source": [
        "7.len()함수(4.ppt) 글자수구하는거"
      ],
      "metadata": {
        "id": "BhZ6PlbYJO6C"
      }
    },
    {
      "cell_type": "code",
      "source": [
        "var1 = \"안산공업고등학교\"\n",
        "len(var1)"
      ],
      "metadata": {
        "colab": {
          "base_uri": "https://localhost:8080/"
        },
        "id": "mz4mtdu0JvX_",
        "outputId": "4fa2a25f-322e-4003-8e9f-6995697ea60f"
      },
      "execution_count": 3,
      "outputs": [
        {
          "output_type": "execute_result",
          "data": {
            "text/plain": [
              "8"
            ]
          },
          "metadata": {},
          "execution_count": 3
        }
      ]
    },
    {
      "cell_type": "markdown",
      "source": [
        "8.lower() 함수 (4.ppt) 소문자로 바꾸기"
      ],
      "metadata": {
        "id": "ik36ONWFJ7vC"
      }
    },
    {
      "cell_type": "code",
      "source": [
        "var1 = \"Ansan\"\n",
        "print(var1.lower())"
      ],
      "metadata": {
        "colab": {
          "base_uri": "https://localhost:8080/"
        },
        "id": "bi0mbRh0KDqK",
        "outputId": "fd0b15f4-5957-4a3e-99b4-8a1256ead66e"
      },
      "execution_count": 4,
      "outputs": [
        {
          "output_type": "stream",
          "name": "stdout",
          "text": [
            "ansan\n"
          ]
        }
      ]
    },
    {
      "cell_type": "markdown",
      "source": [
        "9.count() 함수 (4.ppt) 넣은 단어가 몇번 들어갔는지"
      ],
      "metadata": {
        "id": "F_S5JiQWKD_a"
      }
    },
    {
      "cell_type": "code",
      "source": [
        "var1 = \"안산공업고등학교 컴퓨터과\"\n",
        "print(var1.count(\"컴퓨터\"))"
      ],
      "metadata": {
        "colab": {
          "base_uri": "https://localhost:8080/"
        },
        "id": "wZQa1evRKEIq",
        "outputId": "f47419fa-47b0-4ec0-aefb-965b0c99e75a"
      },
      "execution_count": 5,
      "outputs": [
        {
          "output_type": "stream",
          "name": "stdout",
          "text": [
            "1\n"
          ]
        }
      ]
    },
    {
      "cell_type": "markdown",
      "source": [
        "10.문자열의 위치 (4.ppt)"
      ],
      "metadata": {
        "id": "1VkztOV7KEPa"
      }
    },
    {
      "cell_type": "code",
      "source": [
        "school = \"안산공고\"\n",
        "print(school[3], end='')\n",
        "print(school[2], end='')\n",
        "print(school[1], end='')\n",
        "print(school[0], end='')"
      ],
      "metadata": {
        "colab": {
          "base_uri": "https://localhost:8080/"
        },
        "id": "Y2R2nw5-KEYL",
        "outputId": "10f33627-8591-4df1-c3f4-4097b0c19bd8"
      },
      "execution_count": 6,
      "outputs": [
        {
          "output_type": "stream",
          "name": "stdout",
          "text": [
            "고공산안"
          ]
        }
      ]
    },
    {
      "cell_type": "markdown",
      "source": [
        "11.순차구조 - 선택구조 - 반복구조(5.ppt)\n",
        "\n",
        "2가지 중 하나의 흐름으로 실행되는 구조 (선택구조)\n",
        "순서대로만 실행되는 구조는 (순차구조)\n",
        "동일한 코드,특정한 단계가 여러 번 반복해서 실행(반복구조)"
      ],
      "metadata": {
        "id": "JlthLKPaKEfa"
      }
    },
    {
      "cell_type": "code",
      "source": [],
      "metadata": {
        "id": "jrf8K_YhKEnC"
      },
      "execution_count": null,
      "outputs": []
    },
    {
      "cell_type": "markdown",
      "source": [
        "12.if문 (5.ppt)"
      ],
      "metadata": {
        "id": "AXRwosjjKEuD"
      }
    },
    {
      "cell_type": "code",
      "source": [
        "number = int(input(\"숫자==>\"))\n",
        "\n",
        "if (number %2 == 1 ) :\n",
        "  print(\"홀수\")\n",
        "else :\n",
        "  print(\"짝수\")"
      ],
      "metadata": {
        "colab": {
          "base_uri": "https://localhost:8080/"
        },
        "id": "p2kdpjeaKE0a",
        "outputId": "379f598e-ae84-48c8-cd47-02e8634c316e"
      },
      "execution_count": 7,
      "outputs": [
        {
          "output_type": "stream",
          "name": "stdout",
          "text": [
            "숫자==>1\n",
            "홀수\n"
          ]
        }
      ]
    },
    {
      "cell_type": "markdown",
      "source": [
        "13.for문 (6.ppt) range"
      ],
      "metadata": {
        "id": "tqHaaUokKE8S"
      }
    },
    {
      "cell_type": "code",
      "source": [
        "for i in range(3) :\n",
        "    print(\"안산공고\")"
      ],
      "metadata": {
        "id": "A6VDSMYNKFCa"
      },
      "execution_count": null,
      "outputs": []
    },
    {
      "cell_type": "markdown",
      "source": [
        "14.중첩 for문(6.ppt) 9번"
      ],
      "metadata": {
        "id": "xlmrej2oKFHq"
      }
    },
    {
      "cell_type": "code",
      "source": [
        "for i in range(3) :\n",
        "  for j in range(3) :\n",
        "    print(\"안산공고\")"
      ],
      "metadata": {
        "id": "bxD2HKDJKFNK"
      },
      "execution_count": null,
      "outputs": []
    },
    {
      "cell_type": "markdown",
      "source": [
        "15.리스트(7.ppt)"
      ],
      "metadata": {
        "id": "AOtzzoL1KFSy"
      }
    },
    {
      "cell_type": "code",
      "source": [
        "a = (100)\n",
        "b = [3.14]\n",
        "c = [\"안산\"]\n",
        "d = [True]\n",
        "e = [False]\n",
        "\n",
        "print(type(a))\n",
        "print(type(b))\n",
        "print(type(c))\n",
        "print(type(d))\n",
        "print(type(e))"
      ],
      "metadata": {
        "colab": {
          "base_uri": "https://localhost:8080/"
        },
        "id": "T0PKOE-ZKFZ6",
        "outputId": "5e41cdaa-fbd3-46da-85a6-e7a713ab6f9f"
      },
      "execution_count": 8,
      "outputs": [
        {
          "output_type": "stream",
          "name": "stdout",
          "text": [
            "<class 'int'>\n",
            "<class 'list'>\n",
            "<class 'list'>\n",
            "<class 'list'>\n",
            "<class 'list'>\n"
          ]
        }
      ]
    },
    {
      "cell_type": "markdown",
      "source": [
        "16.리스트 인덱싱(7.ppt) 하나빠져서 나옴"
      ],
      "metadata": {
        "id": "ynqgbabRKFfa"
      }
    },
    {
      "cell_type": "code",
      "source": [
        "numList = [10,20,30,40]\n",
        "print(numList[0:3])"
      ],
      "metadata": {
        "colab": {
          "base_uri": "https://localhost:8080/"
        },
        "id": "kl7sQOm_KFni",
        "outputId": "938e0ab0-fc8e-4530-9c5e-01c939f361c1"
      },
      "execution_count": 9,
      "outputs": [
        {
          "output_type": "stream",
          "name": "stdout",
          "text": [
            "[10, 20, 30]\n"
          ]
        }
      ]
    },
    {
      "cell_type": "markdown",
      "source": [
        "17.함수의 장점 (8.ppt)\n",
        "\n",
        "에러 수정이 쉽다.\n",
        "개발 시간을 단축할 수 있다.\n",
        "프로그램 유지 보수에 효과적이다.\n",
        "하나의 큰 프로그램을 기능별로 분리할 수 있다.\n",
        "이미 정의된 함수는 여러번 호출이 가능하다."
      ],
      "metadata": {
        "id": "2VwrzAZKKFs6"
      }
    },
    {
      "cell_type": "code",
      "source": [],
      "metadata": {
        "id": "u300-XQOKFxi"
      },
      "execution_count": null,
      "outputs": []
    },
    {
      "cell_type": "markdown",
      "source": [
        "18.함수의 정의 (8.ppt)"
      ],
      "metadata": {
        "id": "uxls61XZKF2b"
      }
    },
    {
      "cell_type": "code",
      "source": [
        "def fun1() :\n",
        "  pass"
      ],
      "metadata": {
        "id": "1xHhuCkWKF66"
      },
      "execution_count": null,
      "outputs": []
    },
    {
      "cell_type": "markdown",
      "source": [
        "19.함수 안에서 사용되는 변수로 지역변수 대신에\n",
        "무조건 전역변수로 사용하고 싶은 경우에 사용하는 예약어(8.ppt)"
      ],
      "metadata": {
        "id": "o2I3auD9KF_j"
      }
    },
    {
      "cell_type": "code",
      "source": [
        "global"
      ],
      "metadata": {
        "id": "s5JkQKKSKGEK"
      },
      "execution_count": null,
      "outputs": []
    },
    {
      "cell_type": "markdown",
      "source": [
        "20.파일 읽기의 3단계(9.ppt)\n",
        "\n",
        "파일열기 - 파일읽기 - 파일닫기"
      ],
      "metadata": {
        "id": "LRbuK6PtKGIy"
      }
    },
    {
      "cell_type": "code",
      "source": [],
      "metadata": {
        "id": "CY5xcc6pKGM6"
      },
      "execution_count": null,
      "outputs": []
    },
    {
      "cell_type": "markdown",
      "source": [
        "21.파이썬에서 기본적으로 제고하는 GUI 라이브러리\n",
        "\n",
        "tkinter"
      ],
      "metadata": {
        "id": "7NbuBMFAKGRa"
      }
    },
    {
      "cell_type": "code",
      "source": [],
      "metadata": {
        "id": "T6PoAn2VKGxK"
      },
      "execution_count": null,
      "outputs": []
    },
    {
      "cell_type": "markdown",
      "source": [
        "22.윈도우 창의 제목을 설정\n",
        "\n",
        "window.title(\"Simple Calculator\")"
      ],
      "metadata": {
        "id": "w5_kR4f2SzCr"
      }
    }
  ]
}