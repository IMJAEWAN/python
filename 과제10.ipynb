{
  "nbformat": 4,
  "nbformat_minor": 0,
  "metadata": {
    "colab": {
      "provenance": [],
      "authorship_tag": "ABX9TyPMciCRbEfv2cetLuJZUHkm",
      "include_colab_link": true
    },
    "kernelspec": {
      "name": "python3",
      "display_name": "Python 3"
    },
    "language_info": {
      "name": "python"
    }
  },
  "cells": [
    {
      "cell_type": "markdown",
      "metadata": {
        "id": "view-in-github",
        "colab_type": "text"
      },
      "source": [
        "<a href=\"https://colab.research.google.com/github/IMJAEWAN/python/blob/main/%EA%B3%BC%EC%A0%9C10.ipynb\" target=\"_parent\"><img src=\"https://colab.research.google.com/assets/colab-badge.svg\" alt=\"Open In Colab\"/></a>"
      ]
    },
    {
      "cell_type": "code",
      "execution_count": 38,
      "metadata": {
        "colab": {
          "base_uri": "https://localhost:8080/"
        },
        "id": "HIiwNJNYP_tD",
        "outputId": "156420ac-4608-4e7c-a17f-7f0b5a73ded4"
      },
      "outputs": [
        {
          "output_type": "stream",
          "name": "stdout",
          "text": [
            "주사위 3개가 모두  2 이다.\n",
            "같은 숫자가 나오기 까지  14 번 던졌다.\n"
          ]
        }
      ],
      "source": [
        "import random\n",
        "count = 0\n",
        "while True :\n",
        " dice1 = random.randint(1,6)\n",
        " dice2 = random.randint(1,6)\n",
        " dice3 = random.randint(1,6)\n",
        " count = count + 1\n",
        " if dice1 == dice2 == dice3 :\n",
        "  print(\"주사위 3개가 모두 \", dice1,\"이다.\")\n",
        "  print(\"같은 숫자가 나오기 까지 \", count, \"번 던졌다.\")\n",
        "  break"
      ]
    },
    {
      "cell_type": "code",
      "source": [
        "\n",
        "import random\n",
        "count = 1\n",
        "while count <= 10 :\n",
        "  com = random.randint(1,5)\n",
        "  print(\"게임\",count,\"회 : \",end = \" \")\n",
        "  player = int(input(\"컴퓨터가 생각한 숫자는 ? \"))\n",
        "  count = count + 1\n",
        "  if com == player :\n",
        "    print(\"맞혔네요 축하합니다!\")\n",
        "    print(\"게임을 마칩니다.\")\n",
        "    break\n",
        "  else :\n",
        "    print(\"아까워요\",com,\" 였는데요. 다시해보세요!\")\n"
      ],
      "metadata": {
        "colab": {
          "base_uri": "https://localhost:8080/"
        },
        "id": "WcgRDCZUR-aB",
        "outputId": "786beeef-4e3e-454d-eb36-7e64b9a90dbd"
      },
      "execution_count": 60,
      "outputs": [
        {
          "output_type": "stream",
          "name": "stdout",
          "text": [
            "게임 1 회 :  컴퓨터가 생각한 숫자는 ? 1\n",
            "아까워요 5  였는데요. 다시해보세요!\n",
            "게임 2 회 :  컴퓨터가 생각한 숫자는 ? 1\n",
            "아까워요 5  였는데요. 다시해보세요!\n",
            "게임 3 회 :  컴퓨터가 생각한 숫자는 ? 2\n",
            "아까워요 5  였는데요. 다시해보세요!\n",
            "게임 4 회 :  컴퓨터가 생각한 숫자는 ? 4\n",
            "아까워요 3  였는데요. 다시해보세요!\n",
            "게임 5 회 :  컴퓨터가 생각한 숫자는 ? 5\n",
            "아까워요 4  였는데요. 다시해보세요!\n",
            "게임 6 회 :  컴퓨터가 생각한 숫자는 ? 6\n",
            "아까워요 1  였는데요. 다시해보세요!\n",
            "게임 7 회 :  컴퓨터가 생각한 숫자는 ? 8\n",
            "아까워요 2  였는데요. 다시해보세요!\n",
            "게임 8 회 :  컴퓨터가 생각한 숫자는 ? 2\n",
            "아까워요 1  였는데요. 다시해보세요!\n",
            "게임 9 회 :  컴퓨터가 생각한 숫자는 ? 4\n",
            "맞혔네요 축하합니다!\n",
            "게임을 마칩니다.\n"
          ]
        }
      ]
    },
    {
      "cell_type": "code",
      "source": [
        "import random\n",
        "\n",
        "rnd_num = [1,2,3,4,5,6,7,8,9]\n",
        "\n",
        "r1 = random.choice(rnd_num)\n",
        "rnd_num.remove(r1)\n",
        "print(\"리스트 : \", rnd_num)\n",
        "print(\"랜덤값 : \", r1)"
      ],
      "metadata": {
        "colab": {
          "base_uri": "https://localhost:8080/"
        },
        "id": "2_x_aeNaWV-2",
        "outputId": "acf178a9-1a85-4111-d48c-c78e2f195162"
      },
      "execution_count": 61,
      "outputs": [
        {
          "output_type": "stream",
          "name": "stdout",
          "text": [
            "리스트 :  [1, 2, 3, 4, 5, 6, 8, 9]\n",
            "랜덤값 :  7\n"
          ]
        }
      ]
    },
    {
      "cell_type": "code",
      "source": [
        "import random\n",
        "count = 0\n",
        "pn = 0\n",
        "strike = 0\n",
        "ball = 0\n",
        "\n",
        "sn = random.sample(range(1,10),3)\n",
        "\n",
        "while count <= 10 :\n",
        "  strike = 0\n",
        "  ball = 0\n",
        "  print(sn)\n",
        "  pn = input(\"3자리 숫자를 입력 :\")\n",
        "  pn = list(pn)\n",
        "  pn[0] = int(pn[0])\n",
        "  pn[1] = int(pn[1])\n",
        "  pn[2] = int(pn[2])\n",
        "\n",
        "  if (sn[0] == pn[0]) :\n",
        "    strike = strike + 1\n",
        "  elif pn[0] in sn :\n",
        "    ball = ball + 1\n",
        "  if (sn[1] == pn[1]) :\n",
        "    strike = strike + 1\n",
        "  elif pn[1] in sn :\n",
        "    ball = ball + 1\n",
        "  if (sn[2] == pn[2]) :\n",
        "    strike = strike + 1\n",
        "  elif pn[2] in sn :\n",
        "    ball = ball + 1\n",
        "\n",
        "  print(strike,\"-스트라이크 // \",ball,\"-볼\")\n",
        "  if strike == 3 :\n",
        "    print(\"맞췄습니다\")\n",
        "    break\n"
      ],
      "metadata": {
        "colab": {
          "base_uri": "https://localhost:8080/"
        },
        "id": "nosFAQ88X-Iu",
        "outputId": "fd267026-4962-4b33-d0cd-3738d62cf5dc"
      },
      "execution_count": 90,
      "outputs": [
        {
          "output_type": "stream",
          "name": "stdout",
          "text": [
            "[6, 8, 4]\n",
            "3자리 숫자를 입력 :678\n",
            "1 -스트라이크 //  1 -볼\n",
            "[6, 8, 4]\n",
            "3자리 숫자를 입력 :694\n",
            "2 -스트라이크 //  0 -볼\n",
            "[6, 8, 4]\n",
            "3자리 숫자를 입력 :486\n",
            "1 -스트라이크 //  2 -볼\n",
            "[6, 8, 4]\n",
            "3자리 숫자를 입력 :684\n",
            "3 -스트라이크 //  0 -볼\n",
            "맞췄습니다\n"
          ]
        }
      ]
    }
  ]
}