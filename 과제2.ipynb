{
  "nbformat": 4,
  "nbformat_minor": 0,
  "metadata": {
    "colab": {
      "provenance": [],
      "authorship_tag": "ABX9TyO94xYpUnvgrQYloAam2Fy1",
      "include_colab_link": true
    },
    "kernelspec": {
      "name": "python3",
      "display_name": "Python 3"
    },
    "language_info": {
      "name": "python"
    }
  },
  "cells": [
    {
      "cell_type": "markdown",
      "metadata": {
        "id": "view-in-github",
        "colab_type": "text"
      },
      "source": [
        "<a href=\"https://colab.research.google.com/github/IMJAEWAN/python/blob/main/%EA%B3%BC%EC%A0%9C2.ipynb\" target=\"_parent\"><img src=\"https://colab.research.google.com/assets/colab-badge.svg\" alt=\"Open In Colab\"/></a>"
      ]
    },
    {
      "cell_type": "code",
      "execution_count": 23,
      "metadata": {
        "colab": {
          "base_uri": "https://localhost:8080/"
        },
        "id": "ZTL5-x8hGcJs",
        "outputId": "a93744da-76b1-427e-d1f2-e675614056aa"
      },
      "outputs": [
        {
          "output_type": "stream",
          "name": "stdout",
          "text": [
            "숫자1 ==> 100\n",
            "숫자2 ==> 10\n",
            "100 + 10 = 110\n",
            "100 - 10 = 90\n",
            "100 * 10 = 1000\n",
            "100 / 10 = 10.0\n",
            "100 % 10 = 0\n",
            "100 ** 10 = 100000000000000000000\n"
          ]
        }
      ],
      "source": [
        "a = int(input(\"숫자1 ==> \"))\n",
        "b = int(input(\"숫자2 ==> \"))\n",
        "c = a+b\n",
        "d = a-b\n",
        "e = a*b\n",
        "f = a/b\n",
        "g = a%b\n",
        "h = a**b\n",
        "print(a, \"+\", b, \"=\", c)\n",
        "print(a, \"-\", b, \"=\", d)\n",
        "print(a, \"*\", b, \"=\", e)\n",
        "print(a, \"/\", b, \"=\", f)\n",
        "print(a, \"%\", b, \"=\", g)\n",
        "print(a, \"**\", b, \"=\", h)"
      ]
    }
  ]
}