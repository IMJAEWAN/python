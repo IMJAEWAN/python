{
  "nbformat": 4,
  "nbformat_minor": 0,
  "metadata": {
    "colab": {
      "provenance": [],
      "authorship_tag": "ABX9TyPJAOFDXbVKEDT0fvvJCdoE",
      "include_colab_link": true
    },
    "kernelspec": {
      "name": "python3",
      "display_name": "Python 3"
    },
    "language_info": {
      "name": "python"
    }
  },
  "cells": [
    {
      "cell_type": "markdown",
      "metadata": {
        "id": "view-in-github",
        "colab_type": "text"
      },
      "source": [
        "<a href=\"https://colab.research.google.com/github/IMJAEWAN/python/blob/main/%EA%B3%BC%EC%A0%9C4.ipynb\" target=\"_parent\"><img src=\"https://colab.research.google.com/assets/colab-badge.svg\" alt=\"Open In Colab\"/></a>"
      ]
    },
    {
      "cell_type": "code",
      "execution_count": 31,
      "metadata": {
        "colab": {
          "base_uri": "https://localhost:8080/"
        },
        "id": "ZTL5-x8hGcJs",
        "outputId": "6f8dce88-669e-4361-c67a-f41dcfc2f4b3"
      },
      "outputs": [
        {
          "output_type": "stream",
          "name": "stdout",
          "text": [
            "오늘 총 매출액은 11600 원입니다.\n"
          ]
        }
      ],
      "source": [
        "gimbapp = 900 * 10\n",
        "bananas = 1800 * 2\n",
        "dosip = 3500 * 5\n",
        "dosis = 4000 * 4\n",
        "collas = 1500 * 1\n",
        "seus = 2000 * 4\n",
        "cans = 1800 * 5\n",
        "pprice = gimbapp + dosip\n",
        "sprice = bananas + dosis + collas + seus + cans\n",
        "print(\"오늘 총 매출액은\", sprice-pprice, \"원입니다.\")\n"
      ]
    }
  ]
}