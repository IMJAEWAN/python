{
  "nbformat": 4,
  "nbformat_minor": 0,
  "metadata": {
    "colab": {
      "provenance": [],
      "authorship_tag": "ABX9TyPXc8O3THXTZcC4kKFZrzN5",
      "include_colab_link": true
    },
    "kernelspec": {
      "name": "python3",
      "display_name": "Python 3"
    },
    "language_info": {
      "name": "python"
    }
  },
  "cells": [
    {
      "cell_type": "markdown",
      "metadata": {
        "id": "view-in-github",
        "colab_type": "text"
      },
      "source": [
        "<a href=\"https://colab.research.google.com/github/IMJAEWAN/python/blob/main/%EA%B3%BC%EC%A0%9C3.ipynb\" target=\"_parent\"><img src=\"https://colab.research.google.com/assets/colab-badge.svg\" alt=\"Open In Colab\"/></a>"
      ]
    },
    {
      "cell_type": "code",
      "execution_count": 30,
      "metadata": {
        "colab": {
          "base_uri": "https://localhost:8080/"
        },
        "id": "ZTL5-x8hGcJs",
        "outputId": "96dbad29-6235-429f-cdff-81a71a26c792"
      },
      "outputs": [
        {
          "output_type": "stream",
          "name": "stdout",
          "text": [
            "파운드(lb)를 입력하세요 : 15\n",
            "15 파운드(lb)는 6.80388 킬로그램(kg)입니다.\n",
            "킬로그램(kg)를 입력하세요 : 15\n",
            "15 파운드(lb)는 33.06935 파운드(lb)입니다.\n"
          ]
        }
      ],
      "source": [
        "a = 0.453592\n",
        "b = 2.204623\n",
        "e = int(input(\"파운드(lb)를 입력하세요 : \"))\n",
        "print(e, \"파운드(lb)는\", round(e*a, 5), \"킬로그램(kg)입니다.\")\n",
        "f = int(input(\"킬로그램(kg)를 입력하세요 : \"))\n",
        "print(f, \"파운드(lb)는\", round(f*b, 5), \"파운드(lb)입니다.\")"
      ]
    }
  ]
}