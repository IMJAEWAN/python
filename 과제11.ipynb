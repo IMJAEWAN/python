{
  "nbformat": 4,
  "nbformat_minor": 0,
  "metadata": {
    "colab": {
      "provenance": [],
      "authorship_tag": "ABX9TyOPr9x/fXmgYbVD19eBAosS",
      "include_colab_link": true
    },
    "kernelspec": {
      "name": "python3",
      "display_name": "Python 3"
    },
    "language_info": {
      "name": "python"
    }
  },
  "cells": [
    {
      "cell_type": "markdown",
      "metadata": {
        "id": "view-in-github",
        "colab_type": "text"
      },
      "source": [
        "<a href=\"https://colab.research.google.com/github/IMJAEWAN/python/blob/main/%EA%B3%BC%EC%A0%9C11.ipynb\" target=\"_parent\"><img src=\"https://colab.research.google.com/assets/colab-badge.svg\" alt=\"Open In Colab\"/></a>"
      ]
    },
    {
      "cell_type": "code",
      "execution_count": 6,
      "metadata": {
        "colab": {
          "base_uri": "https://localhost:8080/"
        },
        "id": "MeH_UCq5eozm",
        "outputId": "d5044d92-2d61-4723-f7e6-f5143ea3d9ab"
      },
      "outputs": [
        {
          "output_type": "stream",
          "name": "stdout",
          "text": [
            "숫자 : 10\n",
            "숫자 : 20\n",
            "숫자 : 30\n",
            "숫자 : 0\n",
            "숫자 : 0\n",
            "리스트의 합계 : 60\n"
          ]
        }
      ],
      "source": [
        "numlist = [0,0,0,0,0]\n",
        "\n",
        "numlist[0] = input(\"숫자 : \")\n",
        "numlist[1] = input(\"숫자 : \")\n",
        "numlist[2] = input(\"숫자 : \")\n",
        "numlist[3] = input(\"숫자 : \")\n",
        "numlist[4] = input(\"숫자 : \")\n",
        "\n",
        "sum = int(numlist[0]) + int(numlist[1]) + int(numlist[2]) + int(numlist[3]) + int(numlist[4])\n",
        "print(\"리스트의 합계 :\", sum)"
      ]
    },
    {
      "cell_type": "code",
      "source": [
        "mylist = []\n",
        "\n",
        "mylist.append(\"안산\")\n",
        "mylist.append(\"공고\")\n",
        "mylist.append(3100)\n",
        "mylist.append(777)\n",
        "\n",
        "print(mylist)"
      ],
      "metadata": {
        "colab": {
          "base_uri": "https://localhost:8080/"
        },
        "id": "Rr96WQGksiMu",
        "outputId": "b4dff926-7621-4d59-e012-77797d885546"
      },
      "execution_count": 7,
      "outputs": [
        {
          "output_type": "stream",
          "name": "stdout",
          "text": [
            "['안산', '공고', 3100, 777]\n"
          ]
        }
      ]
    },
    {
      "cell_type": "code",
      "source": [
        "import random\n",
        "\n",
        "numlist = [\"중요한건 꺽이지 않는 마음\",\"너 자신을 알라\",\"피할 수 없으면 즐겨라\",\"신은 용기있는 자를 결코 버리지 않는다\",\"내일은 내일의 태양이 뜬다\",\"이 또한 지나가리라\"]\n",
        "\n",
        "rnd_say = random.sample(numlist, 1)\n",
        "print(\"오늘의 명언 ==> \", rnd_say)"
      ],
      "metadata": {
        "colab": {
          "base_uri": "https://localhost:8080/"
        },
        "id": "oF_jW0SetfbX",
        "outputId": "a0df0d2a-7e8d-4183-a422-a4ceebb8d36b"
      },
      "execution_count": 28,
      "outputs": [
        {
          "output_type": "stream",
          "name": "stdout",
          "text": [
            "오늘의 명언 ==>  ['너 자신을 알라']\n"
          ]
        }
      ]
    },
    {
      "cell_type": "code",
      "source": [
        "import random\n",
        "\n",
        "numlist = [\"중요한건 꺽이지 않는 마음\",\"너 자신을 알라\",\"피할 수 없으면 즐겨라\",\"신은 용기있는 자를 결코 버리지 않는다\",\"내일은 내일의 태양이 뜬다\",\"이 또한 지나가리라\"]\n",
        "\n",
        "rnd = random.randint(0,len(numlist)-1)\n",
        "rnd_say = numlist[rnd]\n",
        "print(\"오늘의 명언 ==> \", rnd_say)"
      ],
      "metadata": {
        "colab": {
          "base_uri": "https://localhost:8080/"
        },
        "id": "TYCkWGa1xSe9",
        "outputId": "8ccd87cd-acf2-4e30-92fe-eb8a8b2dda95"
      },
      "execution_count": 53,
      "outputs": [
        {
          "output_type": "stream",
          "name": "stdout",
          "text": [
            "오늘의 명언 ==>  너 자신을 알라\n"
          ]
        }
      ]
    },
    {
      "cell_type": "code",
      "source": [
        "import datetime\n",
        "\n",
        "now = datetime.date.today()\n",
        "birthday = datetime.date(2005, 12, 1)\n",
        "age = now - birthday\n",
        "print(age.days/365)"
      ],
      "metadata": {
        "colab": {
          "base_uri": "https://localhost:8080/"
        },
        "id": "ytfWxn_GyJCU",
        "outputId": "b819d95c-1b24-48b7-c661-405919eb615b"
      },
      "execution_count": 57,
      "outputs": [
        {
          "output_type": "stream",
          "name": "stdout",
          "text": [
            "17.367123287671234\n"
          ]
        }
      ]
    },
    {
      "cell_type": "code",
      "source": [
        "import datetime\n",
        "\n",
        "now = datetime.date.today()\n",
        "dday = datetime.date(2023, 11, 16)\n",
        "dday = dday - now\n",
        "print(dday.days)"
      ],
      "metadata": {
        "colab": {
          "base_uri": "https://localhost:8080/"
        },
        "id": "I4vFvu0F0Cwq",
        "outputId": "0f21602a-2723-4ab3-f26e-10df61eff58f"
      },
      "execution_count": 62,
      "outputs": [
        {
          "output_type": "stream",
          "name": "stdout",
          "text": [
            "220\n"
          ]
        }
      ]
    }
  ]
}