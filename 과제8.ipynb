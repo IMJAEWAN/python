{
  "nbformat": 4,
  "nbformat_minor": 0,
  "metadata": {
    "colab": {
      "provenance": [],
      "authorship_tag": "ABX9TyPGAUX8SA7F/eSA8ILLKn5J",
      "include_colab_link": true
    },
    "kernelspec": {
      "name": "python3",
      "display_name": "Python 3"
    },
    "language_info": {
      "name": "python"
    }
  },
  "cells": [
    {
      "cell_type": "markdown",
      "metadata": {
        "id": "view-in-github",
        "colab_type": "text"
      },
      "source": [
        "<a href=\"https://colab.research.google.com/github/IMJAEWAN/python/blob/main/%EA%B3%BC%EC%A0%9C8.ipynb\" target=\"_parent\"><img src=\"https://colab.research.google.com/assets/colab-badge.svg\" alt=\"Open In Colab\"/></a>"
      ]
    },
    {
      "cell_type": "code",
      "execution_count": 7,
      "metadata": {
        "colab": {
          "base_uri": "https://localhost:8080/"
        },
        "id": "rX1VxJuyYEWb",
        "outputId": "fd0b910f-5ba7-493b-9ff2-f3c466d807c5"
      },
      "outputs": [
        {
          "output_type": "stream",
          "name": "stdout",
          "text": [
            "31\n"
          ]
        }
      ],
      "source": [
        "import random\n",
        "\n",
        "rndNumber = random.randint(1,45)\n",
        "\n",
        "print(rndNumber)"
      ]
    },
    {
      "cell_type": "code",
      "source": [
        "import random\n",
        "lottoNumber = [0,0,0,0,0,0]\n",
        "\n",
        "for i in range(6):\n",
        "   lottoNumber [i] = random.randint(1,45)\n",
        "for i in range(6):\n",
        "  print(lottoNumber [i] , end=\" \")\n",
        "\n"
      ],
      "metadata": {
        "colab": {
          "base_uri": "https://localhost:8080/"
        },
        "id": "J51AeMo2Y9CT",
        "outputId": "901dac2d-d4d6-46c4-aef0-a7ffcbb2fa4d"
      },
      "execution_count": 22,
      "outputs": [
        {
          "output_type": "stream",
          "name": "stdout",
          "text": [
            "30 6 7 42 36 7 "
          ]
        }
      ]
    },
    {
      "cell_type": "code",
      "source": [
        "import random\n",
        "foods = [\"떡볶이\",\"순대\", \"소고기\", \"쿠키\", \"라면\"]\n",
        "\n",
        "result = random.choice(foods)\n",
        "\n",
        "print(result)"
      ],
      "metadata": {
        "colab": {
          "base_uri": "https://localhost:8080/"
        },
        "id": "0sp4ylnEcY_B",
        "outputId": "47f9b82a-c6e1-4fba-c416-a34bc11bc71a"
      },
      "execution_count": 29,
      "outputs": [
        {
          "output_type": "stream",
          "name": "stdout",
          "text": [
            "쿠키\n"
          ]
        }
      ]
    },
    {
      "cell_type": "code",
      "source": [
        "import random\n",
        "computer = \"\"\n",
        "player = input(\"나의 가위/바위/보 : \")\n",
        "\n",
        "computer = random.choice([\"가위\", \"바위\", \"보\"])\n",
        "print(\"컴퓨터 가위/바위/보 : \", computer)\n",
        "if player == computer :\n",
        "  print(\"무승부\")\n",
        "elif player == \"가위\" and computer == \"보\" or player == \"바위\" and computer == \"가위\" or player == \"보\" and computer == \"바위\" :\n",
        "  print(\"승리\")\n",
        "else :\n",
        "  print(\"패배\")"
      ],
      "metadata": {
        "colab": {
          "base_uri": "https://localhost:8080/"
        },
        "id": "rt_y9vkoc_ER",
        "outputId": "6729e67a-79ed-48ea-a91c-92d57e03009f"
      },
      "execution_count": 51,
      "outputs": [
        {
          "output_type": "stream",
          "name": "stdout",
          "text": [
            "나의 가위/바위/보 : 가위\n",
            "컴퓨터 가위/바위/보 :  보\n",
            "승리\n"
          ]
        }
      ]
    }
  ]
}