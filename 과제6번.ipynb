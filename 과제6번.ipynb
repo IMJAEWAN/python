{
  "nbformat": 4,
  "nbformat_minor": 0,
  "metadata": {
    "colab": {
      "provenance": [],
      "authorship_tag": "ABX9TyPpkgom2qpf/2LaepZEhem4",
      "include_colab_link": true
    },
    "kernelspec": {
      "name": "python3",
      "display_name": "Python 3"
    },
    "language_info": {
      "name": "python"
    }
  },
  "cells": [
    {
      "cell_type": "markdown",
      "metadata": {
        "id": "view-in-github",
        "colab_type": "text"
      },
      "source": [
        "<a href=\"https://colab.research.google.com/github/IMJAEWAN/python/blob/main/%EA%B3%BC%EC%A0%9C6%EB%B2%88.ipynb\" target=\"_parent\"><img src=\"https://colab.research.google.com/assets/colab-badge.svg\" alt=\"Open In Colab\"/></a>"
      ]
    },
    {
      "cell_type": "code",
      "execution_count": 26,
      "metadata": {
        "colab": {
          "base_uri": "https://localhost:8080/"
        },
        "id": "1Cm7sIRlJQ7W",
        "outputId": "af6038f1-8f22-4508-c856-dbe4765534dc"
      },
      "outputs": [
        {
          "output_type": "stream",
          "name": "stdout",
          "text": [
            "원본 문자열 :  트 와 이 스\n",
            "반대 문자열 :  스이와트\n"
          ]
        }
      ],
      "source": [
        "a = [\"트\",\"와\",\"이\",\"스\"]\n",
        "b=(a[3]+a[2]+a[1]+a[0])\n",
        "print(\"원본 문자열 : \", a[0],a[1],a[2],a[3])\n",
        "print(\"반대 문자열 : \", b)"
      ]
    },
    {
      "cell_type": "code",
      "source": [
        "a = \"트와이스\"\n",
        "b = (a[::-1])\n",
        "\n",
        "print(\"원본 문자열 : \", a)\n",
        "print(\"반대 문자열 : \", b)"
      ],
      "metadata": {
        "colab": {
          "base_uri": "https://localhost:8080/"
        },
        "id": "-7tdap3HPk_w",
        "outputId": "5ad65f8f-a5bc-48ef-ed64-e8799f1ff870"
      },
      "execution_count": 33,
      "outputs": [
        {
          "output_type": "stream",
          "name": "stdout",
          "text": [
            "원본 문자열 :  트와이스\n",
            "반대 문자열 :  스이와트\n"
          ]
        }
      ]
    },
    {
      "cell_type": "code",
      "source": [
        "b = \"python\"\n",
        "print(\"원본 문자열 : \",b[0].upper()+b[1:6])\n",
        "print(\"반대 문자열 : \",b[0].lower()+b[1:6].upper())"
      ],
      "metadata": {
        "colab": {
          "base_uri": "https://localhost:8080/"
        },
        "id": "9Rz7ria3QuCw",
        "outputId": "660a286a-dc89-4c39-9769-c79c64823783"
      },
      "execution_count": 56,
      "outputs": [
        {
          "output_type": "stream",
          "name": "stdout",
          "text": [
            "원본 문자열 :  Python\n",
            "반대 문자열 :  pYTHON\n"
          ]
        }
      ]
    }
  ]
}