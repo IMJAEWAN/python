{
  "nbformat": 4,
  "nbformat_minor": 0,
  "metadata": {
    "colab": {
      "provenance": [],
      "authorship_tag": "ABX9TyPjMw4fX3OJQ6ixrQbRkYPG",
      "include_colab_link": true
    },
    "kernelspec": {
      "name": "python3",
      "display_name": "Python 3"
    },
    "language_info": {
      "name": "python"
    }
  },
  "cells": [
    {
      "cell_type": "markdown",
      "metadata": {
        "id": "view-in-github",
        "colab_type": "text"
      },
      "source": [
        "<a href=\"https://colab.research.google.com/github/IMJAEWAN/python/blob/main/%EA%B3%BC%EC%A0%9C7.ipynb\" target=\"_parent\"><img src=\"https://colab.research.google.com/assets/colab-badge.svg\" alt=\"Open In Colab\"/></a>"
      ]
    },
    {
      "cell_type": "code",
      "execution_count": 1,
      "metadata": {
        "colab": {
          "base_uri": "https://localhost:8080/"
        },
        "id": "rXJMkfBVXRM1",
        "outputId": "5a854ce3-c277-4382-c547-14ae967d25a5"
      },
      "outputs": [
        {
          "output_type": "stream",
          "name": "stdout",
          "text": [
            "100보다 큽니다.\n",
            "프로그램\n",
            "끝\n"
          ]
        }
      ],
      "source": [
        "num = 200\n",
        "if num > 100 :\n",
        "  print(\"100보다 큽니다.\")\n",
        "  print(\"프로그램\")\n",
        "  print(\"끝\")"
      ]
    },
    {
      "cell_type": "code",
      "source": [
        "num = int(input(\"정수를 입력 : \"))\n",
        "if num%2 == 0 :\n",
        "  print(\"짝수\")\n",
        "  print(\"입니다.\")\n",
        "else :\n",
        "  print(\"홀수\")"
      ],
      "metadata": {
        "colab": {
          "base_uri": "https://localhost:8080/"
        },
        "id": "LdUe823AYLVc",
        "outputId": "b95ecc5b-6632-46ea-ea4e-9bd4a7727901"
      },
      "execution_count": 4,
      "outputs": [
        {
          "output_type": "stream",
          "name": "stdout",
          "text": [
            "정수를 입력 : 1\n",
            "홀수\n"
          ]
        }
      ]
    },
    {
      "cell_type": "code",
      "source": [
        "num = int(input(\"숫자를 입력 : \"))\n",
        "if num < 100 :\n",
        "  print(\"100보다 작다.\")\n",
        "else :\n",
        " if num > 100 :\n",
        "   if num < 1000 :\n",
        "     print(\"100에서 1000사이다.\")\n",
        "   else :\n",
        "     print(\"1000보다 크다.\")\n",
        "   "
      ],
      "metadata": {
        "colab": {
          "base_uri": "https://localhost:8080/"
        },
        "id": "2gP58lUYZLN6",
        "outputId": "c664a800-c689-4425-f339-45af53a060a1"
      },
      "execution_count": 17,
      "outputs": [
        {
          "output_type": "stream",
          "name": "stdout",
          "text": [
            "숫자를 입력 : 4\n",
            "100보다 작다.\n"
          ]
        }
      ]
    },
    {
      "cell_type": "markdown",
      "source": [],
      "metadata": {
        "id": "ynBDTpxZcO_R"
      }
    },
    {
      "cell_type": "code",
      "source": [
        "score = int(input(\"점수를 입력 ==> \"))\n",
        "if score >= 90 :\n",
        "  print(\"A학점입니다.\")\n",
        "else :\n",
        "  if score >= 80 :\n",
        "    print(\"B학점입니다.\")\n",
        "  else :\n",
        "    if score >= 70 :\n",
        "      print(\"C학점입니다.\")\n",
        "    else :\n",
        "      if score >= 60 :\n",
        "        print(\"D학점입니다.\")\n",
        "      else :\n",
        "        print(\"F학점입니다.\")"
      ],
      "metadata": {
        "colab": {
          "base_uri": "https://localhost:8080/"
        },
        "id": "w6ZrwhTtcOP6",
        "outputId": "70137fdd-8deb-4d58-d161-180b509f16c3"
      },
      "execution_count": 27,
      "outputs": [
        {
          "output_type": "stream",
          "name": "stdout",
          "text": [
            "점수를 입력 ==> 95\n",
            "A학점입니다.\n"
          ]
        }
      ]
    }
  ]
}